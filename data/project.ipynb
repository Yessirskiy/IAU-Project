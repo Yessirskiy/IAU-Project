{
 "cells": [
  {
   "cell_type": "markdown",
   "id": "493b79af-4b2f-4bb2-86a9-64d5ae1fa19a",
   "metadata": {},
   "source": [
    "# Faza 1"
   ]
  },
  {
   "cell_type": "code",
   "execution_count": 2,
   "id": "fb3b4976-9207-4d24-8d4a-a35321ad1429",
   "metadata": {},
   "outputs": [],
   "source": [
    "import pandas as pd\n",
    "import matplotlib.pyplot as plt"
   ]
  },
  {
   "cell_type": "markdown",
   "id": "56c9ab08-7d7a-4c04-8739-018dd1787da7",
   "metadata": {},
   "source": [
    "## 1.1 A"
   ]
  },
  {
   "cell_type": "markdown",
   "id": "46170019-e0ea-497b-9eed-93871e1ec0f4",
   "metadata": {},
   "source": [
    "Reading dataframe, separator is tab"
   ]
  },
  {
   "cell_type": "code",
   "execution_count": 7,
   "id": "09b987fb-5ad8-4726-a405-9df5963ca080",
   "metadata": {},
   "outputs": [],
   "source": [
    "conn_df = pd.read_csv(\"connections.csv\", sep=\"\\t\")\n",
    "proc_df = pd.read_csv(\"processes.csv\", sep=\"\\t\")\n",
    "devices_df = pd.read_csv(\"devices.csv\", sep=\"\\t\")\n",
    "profiles_df = pd.read_csv(\"profiles.csv\", sep=\"\\t\")"
   ]
  },
  {
   "cell_type": "markdown",
   "id": "fbe8baf7-7ed9-4cf0-bc63-bdf121e0ece0",
   "metadata": {},
   "source": [
    "### Size each dataframe"
   ]
  },
  {
   "cell_type": "code",
   "execution_count": 16,
   "id": "0f09ad48-59a5-4dc8-a209-19d97a272202",
   "metadata": {},
   "outputs": [
    {
     "name": "stdout",
     "output_type": "stream",
     "text": [
      "Connections size (rows, columns): (15143, 13)\n",
      "Processes size (rows, columns): (15143, 23)\n",
      "Devices size (rows, columns): (2963, 6)\n",
      "Profiles size (rows, columns): (2537, 12)\n"
     ]
    }
   ],
   "source": [
    "print(\"Connections size (rows, columns):\", conn_df.shape)\n",
    "print(\"Processes size (rows, columns):\", proc_df.shape)\n",
    "print(\"Devices size (rows, columns):\", devices_df.shape)\n",
    "print(\"Profiles size (rows, columns):\", profiles_df.shape)"
   ]
  },
  {
   "cell_type": "markdown",
   "id": "b2025f94-d0e3-44a1-abe3-53bf9debf1f7",
   "metadata": {},
   "source": [
    "### Types of attributes"
   ]
  },
  {
   "cell_type": "code",
   "execution_count": 18,
   "id": "fb73ca2d-cc37-4339-bf46-00936d11bb36",
   "metadata": {},
   "outputs": [
    {
     "data": {
      "text/plain": [
       "ts                    object\n",
       "imei                   int64\n",
       "mwra                 float64\n",
       "c.dogalize           float64\n",
       "c.android.chrome     float64\n",
       "c.katana             float64\n",
       "c.android.youtube    float64\n",
       "c.android.gm         float64\n",
       "c.updateassist       float64\n",
       "c.android.vending    float64\n",
       "c.UCMobile.intl      float64\n",
       "c.UCMobile.x86       float64\n",
       "c.raider             float64\n",
       "dtype: object"
      ]
     },
     "execution_count": 18,
     "metadata": {},
     "output_type": "execute_result"
    }
   ],
   "source": [
    "conn_df.dtypes"
   ]
  },
  {
   "cell_type": "markdown",
   "id": "d1033a35-2486-452a-9849-0c8554f61b77",
   "metadata": {},
   "source": [
    "Types are imported correctly"
   ]
  },
  {
   "cell_type": "code",
   "execution_count": 19,
   "id": "f30ff48f-1918-4eb0-9652-4fde815131a4",
   "metadata": {},
   "outputs": [
    {
     "data": {
      "text/plain": [
       "ts                             object\n",
       "imei                            int64\n",
       "mwra                          float64\n",
       "p.android.packageinstaller    float64\n",
       "p.android.documentsui         float64\n",
       "p.android.chrome              float64\n",
       "p.android.settings            float64\n",
       "p.android.externalstorage     float64\n",
       "p.android.gm                  float64\n",
       "p.system                      float64\n",
       "p.browser.provider            float64\n",
       "p.notifier                    float64\n",
       "p.simulator                   float64\n",
       "p.gms.persistent              float64\n",
       "p.katana                      float64\n",
       "p.android.defcontainer        float64\n",
       "p.process.gapps               float64\n",
       "p.olauncher                   float64\n",
       "p.dogalize                    float64\n",
       "p.android.vending             float64\n",
       "p.google                      float64\n",
       "p.inputmethod.latin           float64\n",
       "p.android.gms                 float64\n",
       "dtype: object"
      ]
     },
     "execution_count": 19,
     "metadata": {},
     "output_type": "execute_result"
    }
   ],
   "source": [
    "proc_df.dtypes"
   ]
  },
  {
   "cell_type": "markdown",
   "id": "06890336-8685-46a3-94ff-16d86aa99254",
   "metadata": {},
   "source": [
    "Types are imported correctly"
   ]
  },
  {
   "cell_type": "code",
   "execution_count": 20,
   "id": "b819eb45-13c4-4ab9-b4f0-d67e1d7c8e87",
   "metadata": {},
   "outputs": [
    {
     "data": {
      "text/plain": [
       "latitude      float64\n",
       "longitude     float64\n",
       "store_name     object\n",
       "code           object\n",
       "location       object\n",
       "imei            int64\n",
       "dtype: object"
      ]
     },
     "execution_count": 20,
     "metadata": {},
     "output_type": "execute_result"
    }
   ],
   "source": [
    "devices_df.dtypes"
   ]
  },
  {
   "cell_type": "markdown",
   "id": "46d32466-5ea9-4bde-b191-5913e0c21df0",
   "metadata": {},
   "source": [
    "Types are imported correctly"
   ]
  },
  {
   "cell_type": "code",
   "execution_count": 21,
   "id": "8fba2ff3-dee0-488a-a2bb-af876dd9f3ed",
   "metadata": {},
   "outputs": [
    {
     "data": {
      "text/plain": [
       "registration        object\n",
       "username            object\n",
       "residence           object\n",
       "company             object\n",
       "name                object\n",
       "birthdate           object\n",
       "ssn                 object\n",
       "mail                object\n",
       "user_id              int64\n",
       "current_location    object\n",
       "imei                 int64\n",
       "job                 object\n",
       "dtype: object"
      ]
     },
     "execution_count": 21,
     "metadata": {},
     "output_type": "execute_result"
    }
   ],
   "source": [
    "profiles_df.dtypes"
   ]
  },
  {
   "cell_type": "markdown",
   "id": "70b961aa-97a5-4788-9d3e-04e5733aea63",
   "metadata": {},
   "source": [
    "Types are imported correctly"
   ]
  },
  {
   "cell_type": "markdown",
   "id": "0e04e3fe-7d33-4533-a121-736407bafb4d",
   "metadata": {},
   "source": [
    "There is no sign of mistype in any of these dataframes"
   ]
  },
  {
   "cell_type": "code",
   "execution_count": 24,
   "id": "6b5faf0d-7d93-4eda-83a9-bb90b970d512",
   "metadata": {},
   "outputs": [
    {
     "name": "stdout",
     "output_type": "stream",
     "text": [
      "Connections attributes: ts imei mwra c.dogalize c.android.chrome c.katana c.android.youtube c.android.gm c.updateassist c.android.vending c.UCMobile.intl c.UCMobile.x86 c.raider\n",
      "Processes attributes: ts imei mwra p.android.packageinstaller p.android.documentsui p.android.chrome p.android.settings p.android.externalstorage p.android.gm p.system p.browser.provider p.notifier p.simulator p.gms.persistent p.katana p.android.defcontainer p.process.gapps p.olauncher p.dogalize p.android.vending p.google p.inputmethod.latin p.android.gms\n",
      "Devices attributes: latitude longitude store_name code location imei\n",
      "Profiles attributes: registration username residence company name birthdate ssn mail user_id current_location imei job\n"
     ]
    }
   ],
   "source": [
    "print(\"Connections attributes:\", *conn_df.columns)\n",
    "print(\"Processes attributes:\", *proc_df.columns)\n",
    "print(\"Devices attributes:\", *devices_df.columns)\n",
    "print(\"Profiles attributes:\", *profiles_df.columns)\n"
   ]
  },
  {
   "cell_type": "markdown",
   "id": "ba903f62-69fe-4cc7-920e-558c4a7bbb1f",
   "metadata": {},
   "source": [
    "We can notice, that all dataframes have *imei* attribute in it. IMEI stands for _International Mobile Equipment Identity_. So each row just represent particular data about single android device."
   ]
  },
  {
   "cell_type": "markdown",
   "id": "eebfd2fe-c579-4425-af8f-6d4e3d517180",
   "metadata": {},
   "source": [
    "We can also notice, that connections and procecesses have the same naumber of rows and both have attribute called ts which stands for timestamp. It suggests that it might be logging of both connections and processes at the particular point in time:"
   ]
  },
  {
   "cell_type": "code",
   "execution_count": 25,
   "id": "fe41ab3d-ce40-45a2-b3c0-fc2e9e131baa",
   "metadata": {},
   "outputs": [
    {
     "data": {
      "text/plain": [
       "15143"
      ]
     },
     "execution_count": 25,
     "metadata": {},
     "output_type": "execute_result"
    }
   ],
   "source": [
    "(conn_df[\"ts\"] == proc_df[\"ts\"]).sum()"
   ]
  },
  {
   "cell_type": "code",
   "execution_count": 26,
   "id": "6d056ef8-b518-43d7-95e4-489399a53939",
   "metadata": {},
   "outputs": [
    {
     "data": {
      "text/plain": [
       "15143"
      ]
     },
     "execution_count": 26,
     "metadata": {},
     "output_type": "execute_result"
    }
   ],
   "source": [
    "(conn_df[\"imei\"] == proc_df[\"imei\"]).sum()"
   ]
  },
  {
   "cell_type": "markdown",
   "id": "70d84215-c016-4f3a-95ea-40696ed6502a",
   "metadata": {},
   "source": [
    "As we can see, the IMEI and TS are equal for each record in these two datasets which proves suggestion."
   ]
  },
  {
   "cell_type": "markdown",
   "id": "b481d177-acb1-429e-93a5-095a81288e75",
   "metadata": {},
   "source": [
    "The devices dataframe may give an insight in the source of the devices (i.e. the place and time of purchase). The profiles dataframe may provide us an information of the users of the devices."
   ]
  },
  {
   "cell_type": "markdown",
   "id": "d34db9a4-7844-49dd-af39-5722c412a91f",
   "metadata": {},
   "source": [
    "However, there is not much attributes to link connections or processes with devcies or profiles except IMEI field."
   ]
  },
  {
   "cell_type": "code",
   "execution_count": null,
   "id": "e6872eb7-2d89-4775-969e-5a9f1bf3ad40",
   "metadata": {},
   "outputs": [],
   "source": []
  }
 ],
 "metadata": {
  "kernelspec": {
   "display_name": "Python 3 (ipykernel)",
   "language": "python",
   "name": "python3"
  },
  "language_info": {
   "codemirror_mode": {
    "name": "ipython",
    "version": 3
   },
   "file_extension": ".py",
   "mimetype": "text/x-python",
   "name": "python",
   "nbconvert_exporter": "python",
   "pygments_lexer": "ipython3",
   "version": "3.11.5"
  }
 },
 "nbformat": 4,
 "nbformat_minor": 5
}
