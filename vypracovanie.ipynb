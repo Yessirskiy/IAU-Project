{
 "cells": [
  {
   "cell_type": "code",
   "execution_count": null,
   "id": "99e9d999-cc43-493e-a33c-4293b1e1b633",
   "metadata": {},
   "outputs": [],
   "source": [
    "----------------------------------------------------------------------------------------------"
   ]
  },
  {
   "cell_type": "markdown",
   "id": "832a8958-5daf-4182-bf28-84ad65f21681",
   "metadata": {},
   "source": [
    "<h3>V odovzdanej správe (Jupyter notebook) by ste tak mali odpovedať na otázky:</h3>\n"
   ]
  },
  {
   "cell_type": "code",
   "execution_count": null,
   "id": "b86d3fc1-ba99-471d-a897-972b37833d95",
   "metadata": {},
   "outputs": [],
   "source": [
    "Majú dáta vhodný formát pre ďalšie spracovanie? "
   ]
  },
  {
   "cell_type": "code",
   "execution_count": null,
   "id": "8bcb753a-479c-437c-adf3-f7c93509d40b",
   "metadata": {},
   "outputs": [],
   "source": [
    "Aké problémy sa v nich vyskytujú? "
   ]
  },
  {
   "cell_type": "code",
   "execution_count": null,
   "id": "20330d76-f2fb-44d0-8f08-93e192d4b789",
   "metadata": {},
   "outputs": [],
   "source": [
    "Nadobúdajú niektoré atribúty nekonzistentné hodnoty? "
   ]
  },
  {
   "cell_type": "code",
   "execution_count": null,
   "id": "1b1c1103-2e43-4b87-bd09-db0f205b31d7",
   "metadata": {},
   "outputs": [],
   "source": [
    "Ako riešíte tieto Vami identifikované problémy?"
   ]
  },
  {
   "cell_type": "code",
   "execution_count": null,
   "id": "e845d103-9a68-4f28-8fb0-6e9419e25ac4",
   "metadata": {},
   "outputs": [],
   "source": [
    "----------------------------------------------------------------------------------------------"
   ]
  }
 ],
 "metadata": {
  "kernelspec": {
   "display_name": "Python 3 (ipykernel)",
   "language": "python",
   "name": "python3"
  },
  "language_info": {
   "codemirror_mode": {
    "name": "ipython",
    "version": 3
   },
   "file_extension": ".py",
   "mimetype": "text/x-python",
   "name": "python",
   "nbconvert_exporter": "python",
   "pygments_lexer": "ipython3",
   "version": "3.12.3"
  }
 },
 "nbformat": 4,
 "nbformat_minor": 5
}
