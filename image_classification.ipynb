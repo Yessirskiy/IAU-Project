{
 "cells": [
  {
   "cell_type": "markdown",
   "id": "bf136560-04db-41e8-89f6-38bf790fac9d",
   "metadata": {},
   "source": [
    "### Dataset"
   ]
  },
  {
   "cell_type": "markdown",
   "id": "44497452-a35c-40cf-9f19-df6eeb955c60",
   "metadata": {},
   "source": [
    "The dataset was pulled from https://www.kaggle.com/datasets/arashnic/faces-age-detection-dataset?resource=download-directory"
   ]
  },
  {
   "cell_type": "markdown",
   "id": "5d6f7813-64f1-40cf-b960-dfb9eb929860",
   "metadata": {},
   "source": [
    "There are two folders, first one is called **faces**, contains files with images and appropriate label. The second folder is called **faces_02**, contains the iamges, but without labels. Thus, the **faces*** will be used for both training and testing. The **faces_02** can be used for fun ?"
   ]
  },
  {
   "cell_type": "markdown",
   "id": "cc106f92-842b-4ccb-9c37-932323dc1349",
   "metadata": {},
   "source": [
    "# EDA (Nikolai)"
   ]
  },
  {
   "cell_type": "markdown",
   "id": "bbdfdd9d-963a-451d-a13e-fa1620133e28",
   "metadata": {},
   "source": [
    "Let's do neccessary imports:"
   ]
  },
  {
   "cell_type": "code",
   "execution_count": 1,
   "id": "9fa7733b-a89a-44b2-b7ad-2789318ff54d",
   "metadata": {},
   "outputs": [],
   "source": [
    "import os\n",
    "import random\n",
    "import numpy as np\n",
    "import matplotlib as mpl\n",
    "import matplotlib.pyplot as plt\n",
    "import pandas as pd\n",
    "import seaborn as sns\n",
    "import tensorflow as tf\n",
    "from tensorflow.keras import layers\n",
    "from tensorflow.keras.preprocessing import image\n",
    "from tensorflow.keras.models import Sequential"
   ]
  },
  {
   "cell_type": "markdown",
   "id": "bcf7411c-56ac-46dd-848c-9e269b03b373",
   "metadata": {},
   "source": [
    "I also define the batch sizes:"
   ]
  },
  {
   "cell_type": "code",
   "execution_count": 2,
   "id": "4b4947b9-aa7d-40c1-98ec-c122fcdd0ee8",
   "metadata": {},
   "outputs": [],
   "source": [
    "IMAGE_SIZE = 256\n",
    "BATCH_SIZE = 30"
   ]
  },
  {
   "cell_type": "markdown",
   "id": "74dc0090-323f-406d-97ce-4a7b60b419ab",
   "metadata": {},
   "source": [
    "Let's retrieve the names and appropriate labels into dataframe:"
   ]
  },
  {
   "cell_type": "code",
   "execution_count": 3,
   "id": "b50808f4-5296-4464-9191-6cd25108a37a",
   "metadata": {},
   "outputs": [
    {
     "data": {
      "text/html": [
       "<div>\n",
       "<style scoped>\n",
       "    .dataframe tbody tr th:only-of-type {\n",
       "        vertical-align: middle;\n",
       "    }\n",
       "\n",
       "    .dataframe tbody tr th {\n",
       "        vertical-align: top;\n",
       "    }\n",
       "\n",
       "    .dataframe thead th {\n",
       "        text-align: right;\n",
       "    }\n",
       "</style>\n",
       "<table border=\"1\" class=\"dataframe\">\n",
       "  <thead>\n",
       "    <tr style=\"text-align: right;\">\n",
       "      <th></th>\n",
       "      <th>ID</th>\n",
       "      <th>Class</th>\n",
       "    </tr>\n",
       "  </thead>\n",
       "  <tbody>\n",
       "    <tr>\n",
       "      <th>0</th>\n",
       "      <td>377.jpg</td>\n",
       "      <td>MIDDLE</td>\n",
       "    </tr>\n",
       "    <tr>\n",
       "      <th>1</th>\n",
       "      <td>17814.jpg</td>\n",
       "      <td>YOUNG</td>\n",
       "    </tr>\n",
       "    <tr>\n",
       "      <th>2</th>\n",
       "      <td>21283.jpg</td>\n",
       "      <td>MIDDLE</td>\n",
       "    </tr>\n",
       "    <tr>\n",
       "      <th>3</th>\n",
       "      <td>16496.jpg</td>\n",
       "      <td>YOUNG</td>\n",
       "    </tr>\n",
       "    <tr>\n",
       "      <th>4</th>\n",
       "      <td>4487.jpg</td>\n",
       "      <td>MIDDLE</td>\n",
       "    </tr>\n",
       "    <tr>\n",
       "      <th>...</th>\n",
       "      <td>...</td>\n",
       "      <td>...</td>\n",
       "    </tr>\n",
       "    <tr>\n",
       "      <th>19901</th>\n",
       "      <td>2482.jpg</td>\n",
       "      <td>MIDDLE</td>\n",
       "    </tr>\n",
       "    <tr>\n",
       "      <th>19902</th>\n",
       "      <td>20085.jpg</td>\n",
       "      <td>YOUNG</td>\n",
       "    </tr>\n",
       "    <tr>\n",
       "      <th>19903</th>\n",
       "      <td>19663.jpg</td>\n",
       "      <td>MIDDLE</td>\n",
       "    </tr>\n",
       "    <tr>\n",
       "      <th>19904</th>\n",
       "      <td>10132.jpg</td>\n",
       "      <td>MIDDLE</td>\n",
       "    </tr>\n",
       "    <tr>\n",
       "      <th>19905</th>\n",
       "      <td>9896.jpg</td>\n",
       "      <td>MIDDLE</td>\n",
       "    </tr>\n",
       "  </tbody>\n",
       "</table>\n",
       "<p>19906 rows × 2 columns</p>\n",
       "</div>"
      ],
      "text/plain": [
       "              ID   Class\n",
       "0        377.jpg  MIDDLE\n",
       "1      17814.jpg   YOUNG\n",
       "2      21283.jpg  MIDDLE\n",
       "3      16496.jpg   YOUNG\n",
       "4       4487.jpg  MIDDLE\n",
       "...          ...     ...\n",
       "19901   2482.jpg  MIDDLE\n",
       "19902  20085.jpg   YOUNG\n",
       "19903  19663.jpg  MIDDLE\n",
       "19904  10132.jpg  MIDDLE\n",
       "19905   9896.jpg  MIDDLE\n",
       "\n",
       "[19906 rows x 2 columns]"
      ]
     },
     "execution_count": 3,
     "metadata": {},
     "output_type": "execute_result"
    }
   ],
   "source": [
    "df = pd.read_csv(os.path.join(\"faces\", \"train.csv\"))\n",
    "df"
   ]
  },
  {
   "cell_type": "markdown",
   "id": "1d860526-3133-48c0-a99e-799a1ec40a51",
   "metadata": {},
   "source": [
    "Let's check out the classes we have:"
   ]
  },
  {
   "cell_type": "code",
   "execution_count": 4,
   "id": "f47e1559-15a7-41ba-a7f7-11b9ea897043",
   "metadata": {},
   "outputs": [
    {
     "data": {
      "text/plain": [
       "Class\n",
       "MIDDLE    10804\n",
       "YOUNG      6706\n",
       "OLD        2396\n",
       "Name: count, dtype: int64"
      ]
     },
     "execution_count": 4,
     "metadata": {},
     "output_type": "execute_result"
    }
   ],
   "source": [
    "df[\"Class\"].value_counts()"
   ]
  },
  {
   "cell_type": "markdown",
   "id": "5419bcca-8306-41be-bd9e-a4e00ad74086",
   "metadata": {},
   "source": [
    "Let's separate paths according to their classes:"
   ]
  },
  {
   "cell_type": "code",
   "execution_count": 5,
   "id": "c175cb6b-3b40-4a5d-b9ac-d9505642d8be",
   "metadata": {},
   "outputs": [
    {
     "name": "stdout",
     "output_type": "stream",
     "text": [
      "Training data has: 6706 images of young, 10804 images of middle-aged and 2396 images of oldies\n"
     ]
    }
   ],
   "source": [
    "young_p = list(df[df[\"Class\"] == \"YOUNG\"][\"ID\"])\n",
    "middle_p = list(df[df[\"Class\"] == \"MIDDLE\"][\"ID\"])\n",
    "old_p = list(df[df[\"Class\"] == \"OLD\"][\"ID\"])\n",
    "print(f\"Training data has: {len(young_p)} images of young, {len(middle_p)} images of middle-aged and {len(old_p)} images of oldies\")"
   ]
  },
  {
   "cell_type": "markdown",
   "id": "cbfefb82-3497-49f6-b16b-3239975df0c1",
   "metadata": {},
   "source": [
    "We can visualize random images of each class:"
   ]
  },
  {
   "cell_type": "code",
   "execution_count": 6,
   "id": "8068f9aa-a8c8-4283-9972-3f76adc21e3d",
   "metadata": {},
   "outputs": [
    {
     "data": {
      "image/png": "[encoded data removed]",
      "text/plain": [
       "<Figure size 640x480 with 3 Axes>"
      ]
     },
     "metadata": {},
     "output_type": "display_data"
    }
   ],
   "source": [
    "random_iamges = [\n",
    "    (random.choice(young_p), \"YOUNG\"),\n",
    "    (random.choice(middle_p), \"MIDDLE\"),\n",
    "    (random.choice(old_p), \"OLD\")\n",
    "]\n",
    "fig = plt.figure()\n",
    "i = 1\n",
    "for (path, label) in random_iamges:\n",
    "    ax = fig.add_subplot(3, 3, i)\n",
    "    \n",
    "    # to plot without rescaling, remove target_size\n",
    "    fn = image.load_img(os.path.join(\"faces\", \"Train\", path), target_size = (IMAGE_SIZE,IMAGE_SIZE), color_mode='grayscale')\n",
    "    plt.imshow(fn, cmap='Greys_r')\n",
    "    plt.title(label)\n",
    "    plt.axis('off')\n",
    "    i += 1\n",
    "plt.show()"
   ]
  },
  {
   "cell_type": "markdown",
   "id": "742bf259-b815-441b-9a05-979d1ab1da5c",
   "metadata": {},
   "source": [
    "### IMPORTANT: next cell itself consumes around ~5gb of RAM"
   ]
  },
  {
   "cell_type": "code",
   "execution_count": 7,
   "id": "0fe3320a-b7b2-44f8-836e-607e780fbb5a",
   "metadata": {},
   "outputs": [],
   "source": [
    "#def img2np(path, list_of_filename, size=(IMAGE_SIZE, IMAGE_SIZE)):\n",
    "#    img_list = []\n",
    "#    for i, fn in enumerate(list_of_filename):\n",
    "#        if i % 500 == 0:\n",
    "#            print(f\"Parsing {i}/{len(list_of_filename)}\")\n",
    "#        fp = os.path.join(path, fn)\n",
    "#        current_image = image.load_img(fp, target_size = size, color_mode = 'grayscale')\n",
    "#        img_ts = image.img_to_array(current_image).ravel()\n",
    "#        img_list.append(img_ts)\n",
    "#    return np.array(img_list)\n",
    "\n",
    "#common_path = os.path.join(\"faces\", \"Train\")\n",
    "#young = img2np(common_path, young_p)\n",
    "#middle = img2np(common_path, middle_p)\n",
    "#old = img2np(common_path, old_p)\n"
   ]
  },
  {
   "cell_type": "markdown",
   "id": "594340ba-642d-417c-8f92-eb893f4c6e7c",
   "metadata": {},
   "source": [
    "The code cells above and below are commented as they are computentially consuming, but may be launched upon desire:"
   ]
  },
  {
   "cell_type": "code",
   "execution_count": null,
   "id": "39e22caa-c23e-4e1e-bc79-4435699887c8",
   "metadata": {},
   "outputs": [],
   "source": [
    "#def find_mean_img(full_mat, title, size=(IMAGE_SIZE, IMAGE_SIZE)):\n",
    "#    mean_img = np.mean(full_mat, axis = 0)\n",
    "#    mean_img = mean_img.reshape(size)\n",
    "#    plt.imshow(mean_img, vmin=0, vmax=255, cmap='Greys_r')\n",
    "#    plt.title(f'AVG {title} case')\n",
    "#    plt.axis('off')\n",
    "#    plt.show()\n",
    "#    return mean_img\n",
    "#\n",
    "#young_mean_img = find_mean_img(young, 'young')\n",
    "#middle_mean_img = find_mean_img(middle, 'middle')\n",
    "#old_mean_img = find_mean_img(old, 'old')"
   ]
  },
  {
   "cell_type": "markdown",
   "id": "35dbe020-7434-4058-83cb-bd658d91096a",
   "metadata": {},
   "source": [
    "## Loading Dataset"
   ]
  },
  {
   "cell_type": "markdown",
   "id": "8d140c25-edfe-4f41-a77f-dde33ad27c8a",
   "metadata": {},
   "source": [
    "keras requires images distributed in different folders according to their classes, let's do that:"
   ]
  },
  {
   "cell_type": "code",
   "execution_count": 8,
   "id": "fab6768d-998e-41fa-b183-aab7d7ccc9de",
   "metadata": {},
   "outputs": [
    {
     "name": "stdout",
     "output_type": "stream",
     "text": [
      "Copied young\n",
      "Copied middle\n",
      "Copied oldies\n"
     ]
    }
   ],
   "source": [
    "import shutil\n",
    "if not os.path.exists(\"training\"):\n",
    "    os.mkdir(\"training\")\n",
    "young_folder = os.path.join(\"training\", \"young\")\n",
    "middle_folder = os.path.join(\"training\", \"middle\")\n",
    "old_folder = os.path.join(\"training\", \"old\")\n",
    "if not os.path.exists(young_folder):\n",
    "    os.mkdir(young_folder)\n",
    "if not os.path.exists(middle_folder):\n",
    "    os.mkdir(middle_folder)\n",
    "if not os.path.exists(old_folder):\n",
    "    os.mkdir(old_folder)\n",
    "common_path = os.path.join(\"faces\", \"Train\")\n",
    "for p in young_p: shutil.copy(os.path.join(common_path, p), young_folder) \n",
    "print(\"Copied young\")\n",
    "for p in middle_p: shutil.copy(os.path.join(common_path, p), middle_folder)\n",
    "print(\"Copied middle\")\n",
    "for p in old_p: shutil.copy(os.path.join(common_path, p), old_folder)\n",
    "print(\"Copied oldies\")"
   ]
  },
  {
   "cell_type": "code",
   "execution_count": 9,
   "id": "470ccbe7-f515-4cf4-a620-efaf23e62190",
   "metadata": {},
   "outputs": [
    {
     "name": "stdout",
     "output_type": "stream",
     "text": [
      "Found 19906 files belonging to 3 classes.\n"
     ]
    }
   ],
   "source": [
    "ds = tf.keras.preprocessing.image_dataset_from_directory(\n",
    "    \"training\",\n",
    "    shuffle=True,\n",
    "    image_size=(IMAGE_SIZE, IMAGE_SIZE),\n",
    "    batch_size=BATCH_SIZE\n",
    ")"
   ]
  },
  {
   "cell_type": "code",
   "execution_count": 10,
   "id": "6aa2c648-dbde-4d4d-8302-75367f217705",
   "metadata": {},
   "outputs": [
    {
     "name": "stdout",
     "output_type": "stream",
     "text": [
      "Classes for classification: ['middle', 'old', 'young']\n"
     ]
    }
   ],
   "source": [
    "classes = ds.class_names\n",
    "print(f'Classes for classification: {str(classes)}')"
   ]
  },
  {
   "cell_type": "code",
   "execution_count": 11,
   "id": "5e47eac2-6086-4772-9c95-a9319e6c7fbf",
   "metadata": {},
   "outputs": [],
   "source": [
    "def splitDataset(data, train_split=0.7, val_split=0.2, test_split=0.1):\n",
    "    data_size = len(data)\n",
    "    train_size = int(train_split * data_size)\n",
    "    val_size = int(val_split * data_size)\n",
    "    train_ds = ds.take(train_size)    \n",
    "    val_ds = ds.skip(train_size).take(val_size)\n",
    "    test_ds = ds.skip(train_size).skip(val_size)\n",
    "    return train_ds, val_ds, test_ds\n",
    "\n",
    "train_ds, val_ds, test_ds = splitDataset(ds)"
   ]
  },
  {
   "cell_type": "markdown",
   "id": "35d6031c-295c-4975-9b89-99fadae29aa7",
   "metadata": {},
   "source": [
    "Let's take a look on how the batch in the training ds looks like:"
   ]
  },
  {
   "cell_type": "code",
   "execution_count": 12,
   "id": "9249405b-276e-4bf0-a314-ae5c8c006379",
   "metadata": {},
   "outputs": [
    {
     "name": "stdout",
     "output_type": "stream",
     "text": [
      "(30, 256, 256, 3)\n",
      "[2 2 0 0 0 1 0 1 0 0 0 0 0 1 2 1 0 0 0 2 0 0 2 2 0 0 0 0 0 0]\n"
     ]
    }
   ],
   "source": [
    "input_shape = None\n",
    "for batch, labels in train_ds.take(1):\n",
    "    input_shape = batch.shape\n",
    "    print(input_shape)\n",
    "    print(labels.numpy())"
   ]
  },
  {
   "cell_type": "code",
   "execution_count": 13,
   "id": "bcb39c85-18d0-48fd-a534-0689a144b1ce",
   "metadata": {},
   "outputs": [
    {
     "data": {
      "text/plain": [
       "<_SkipDataset element_spec=(TensorSpec(shape=(None, 256, 256, 3), dtype=tf.float32, name=None), TensorSpec(shape=(None,), dtype=tf.int32, name=None))>"
      ]
     },
     "execution_count": 13,
     "metadata": {},
     "output_type": "execute_result"
    }
   ],
   "source": [
    "test_ds"
   ]
  },
  {
   "cell_type": "markdown",
   "id": "ecbdf3aa-f1b5-4731-9078-c7533fdd711b",
   "metadata": {},
   "source": [
    "We should also apply normalization for the better quality of training"
   ]
  },
  {
   "cell_type": "code",
   "execution_count": 14,
   "id": "60ec02c8-b613-4d7d-88ec-9bf0edce589b",
   "metadata": {},
   "outputs": [],
   "source": [
    "norm_layer = tf.keras.layers.Rescaling(1./255)\n",
    "train_ds = train_ds.map(lambda x, y: (norm_layer(x), y))\n",
    "val_ds = val_ds.map(lambda x, y: (norm_layer(x), y))\n",
    "test_ds = test_ds.map(lambda x, y: (norm_layer(x), y))"
   ]
  },
  {
   "cell_type": "markdown",
   "id": "65641596-aae5-4bdb-86d7-31110e715857",
   "metadata": {},
   "source": [
    "As the common sense suggests, the features of the faces differ substantially from class to class, that's why we pick CNN as it is able to learn these features and complete classification task."
   ]
  },
  {
   "cell_type": "markdown",
   "id": "57bb232d-aeae-417b-b105-fdc56da75dce",
   "metadata": {},
   "source": [
    "# Model (Milan)"
   ]
  },
  {
   "cell_type": "code",
   "execution_count": null,
   "id": "46e905ca-48f3-4f53-98b7-12fc9faceab0",
   "metadata": {},
   "outputs": [],
   "source": []
  }
 ],
 "metadata": {
  "kernelspec": {
   "display_name": "Python 3 (ipykernel)",
   "language": "python",
   "name": "python3"
  },
  "language_info": {
   "codemirror_mode": {
    "name": "ipython",
    "version": 3
   },
   "file_extension": ".py",
   "mimetype": "text/x-python",
   "name": "python",
   "nbconvert_exporter": "python",
   "pygments_lexer": "ipython3",
   "version": "3.11.5"
  }
 },
 "nbformat": 4,
 "nbformat_minor": 5
}
